{
 "cells": [
  {
   "cell_type": "code",
   "execution_count": 1,
   "id": "945c7370",
   "metadata": {},
   "outputs": [],
   "source": [
    "import numpy as np\n",
    "import pandas as pd\n",
    "import matplotlib.pyplot as plt\n",
    "import seaborn as sns\n",
    "\n",
    "from sklearn.model_selection import train_test_split\n",
    "from sklearn.linear_model import LinearRegression\n",
    "from sklearn.preprocessing import PolynomialFeatures, StandardScaler\n",
    "from sklearn.metrics import r2_score\n",
    "from sklearn.pipeline import Pipeline"
   ]
  },
  {
   "cell_type": "code",
   "execution_count": 2,
   "id": "28a89a9f",
   "metadata": {},
   "outputs": [],
   "source": [
    "x=6*np.random.rand(200,1)-3\n",
    "y=x**2+x+2+np.random.rand(200,1)"
   ]
  },
  {
   "cell_type": "code",
   "execution_count": 3,
   "id": "875b8e1e",
   "metadata": {},
   "outputs": [
    {
     "data": {
      "image/png": "[encoded data removed]",
      "text/plain": [
       "<Figure size 432x288 with 1 Axes>"
      ]
     },
     "metadata": {
      "needs_background": "light"
     },
     "output_type": "display_data"
    }
   ],
   "source": [
    "plt.plot(x,y,\"r.\")\n",
    "plt.xlabel(\"X\")\n",
    "plt.ylabel(\"Y\")\n",
    "plt.show()"
   ]
  },
  {
   "cell_type": "code",
   "execution_count": 4,
   "id": "9b896f60",
   "metadata": {},
   "outputs": [],
   "source": [
    "X_train,X_test,y_train,y_test=train_test_split(x,y,test_size=0.2,random_state=2)"
   ]
  },
  {
   "cell_type": "code",
   "execution_count": 5,
   "id": "98cb7b69",
   "metadata": {},
   "outputs": [],
   "source": [
    "lr=LinearRegression()"
   ]
  },
  {
   "cell_type": "code",
   "execution_count": 6,
   "id": "af5ddcd6",
   "metadata": {},
   "outputs": [
    {
     "data": {
      "text/plain": [
       "LinearRegression()"
      ]
     },
     "execution_count": 6,
     "metadata": {},
     "output_type": "execute_result"
    }
   ],
   "source": [
    "lr.fit(X_train,y_train)"
   ]
  },
  {
   "cell_type": "code",
   "execution_count": 7,
   "id": "67c50e64",
   "metadata": {},
   "outputs": [
    {
     "data": {
      "text/plain": [
       "0.2839340873710915"
      ]
     },
     "execution_count": 7,
     "metadata": {},
     "output_type": "execute_result"
    }
   ],
   "source": [
    "y_pred=lr.predict(X_test)\n",
    "r2_score(y_test,y_pred)"
   ]
  },
  {
   "cell_type": "code",
   "execution_count": 8,
   "id": "793315cb",
   "metadata": {},
   "outputs": [
    {
     "data": {
      "image/png": "[encoded data removed]",
      "text/plain": [
       "<Figure size 432x288 with 1 Axes>"
      ]
     },
     "metadata": {
      "needs_background": "light"
     },
     "output_type": "display_data"
    }
   ],
   "source": [
    "plt.plot(X_train,lr.predict(X_train),color=\"b\")\n",
    "plt.plot(x,y,\"r.\")\n",
    "plt.xlabel(\"X\")\n",
    "plt.ylabel(\"Y\")\n",
    "plt.show()"
   ]
  },
  {
   "cell_type": "markdown",
   "id": "4d7d4f5e",
   "metadata": {},
   "source": [
    "### "
   ]
  },
  {
   "cell_type": "code",
   "execution_count": 15,
   "id": "f251c768",
   "metadata": {},
   "outputs": [],
   "source": [
    "#Model2-polynomial regression\n",
    "poly=PolynomialFeatures(degree=2, include_bias=True)\n",
    "x_train_trans=poly.fit_transform(X_train)\n",
    "X_test_trans=poly.transform(X_test)"
   ]
  },
  {
   "cell_type": "code",
   "execution_count": 16,
   "id": "d559f6f8",
   "metadata": {},
   "outputs": [
    {
     "name": "stdout",
     "output_type": "stream",
     "text": [
      "[2.17212465]\n"
     ]
    }
   ],
   "source": [
    "print(X_train[0])"
   ]
  },
  {
   "cell_type": "code",
   "execution_count": 17,
   "id": "fcbbf812",
   "metadata": {},
   "outputs": [
    {
     "name": "stdout",
     "output_type": "stream",
     "text": [
      "[1.         2.17212465 4.71812549]\n"
     ]
    }
   ],
   "source": [
    "print(x_train_trans[0])"
   ]
  },
  {
   "cell_type": "code",
   "execution_count": 19,
   "id": "b2698542",
   "metadata": {},
   "outputs": [
    {
     "name": "stdout",
     "output_type": "stream",
     "text": [
      "[[ 2.17212465]\n",
      " [-0.11721495]\n",
      " [ 0.21539924]\n",
      " [-2.21612567]\n",
      " [-0.74788768]\n",
      " [-2.75601661]\n",
      " [-2.16399162]\n",
      " [-0.06182391]\n",
      " [ 0.64943375]\n",
      " [-2.39204109]\n",
      " [ 1.52360315]\n",
      " [-1.65210413]\n",
      " [-0.73899709]\n",
      " [ 0.70203995]\n",
      " [-2.50559922]\n",
      " [ 1.0117785 ]\n",
      " [-1.35273875]\n",
      " [-1.19719497]\n",
      " [-2.40248949]\n",
      " [ 0.86245227]\n",
      " [-2.21447361]\n",
      " [-1.21497551]\n",
      " [-0.11123322]\n",
      " [ 1.79027416]\n",
      " [ 1.48115319]\n",
      " [ 1.45021886]\n",
      " [ 0.7756274 ]\n",
      " [-1.6395916 ]\n",
      " [ 1.08813255]\n",
      " [ 1.86169849]\n",
      " [ 0.99106165]\n",
      " [ 0.24571264]\n",
      " [ 2.03466953]\n",
      " [-0.23586433]\n",
      " [ 1.95892995]\n",
      " [ 1.22374506]\n",
      " [-2.55637604]\n",
      " [-2.23928614]\n",
      " [ 1.1937264 ]\n",
      " [ 0.18847476]\n",
      " [-2.43748109]\n",
      " [-0.43147347]\n",
      " [ 0.32536578]\n",
      " [-1.02288141]\n",
      " [ 2.44198055]\n",
      " [ 1.29708992]\n",
      " [ 2.01138927]\n",
      " [ 2.71025749]\n",
      " [-0.87691942]\n",
      " [ 2.61577438]\n",
      " [ 2.5175377 ]\n",
      " [-0.27883271]\n",
      " [ 1.90535557]\n",
      " [ 1.88191733]\n",
      " [-0.27245859]\n",
      " [-2.95771342]\n",
      " [-0.98485677]\n",
      " [ 0.44807853]\n",
      " [-0.74114401]\n",
      " [ 2.9592485 ]\n",
      " [-1.87480083]\n",
      " [-2.55180613]\n",
      " [ 1.91351875]\n",
      " [ 2.76138244]\n",
      " [ 2.87552552]\n",
      " [-0.17197177]\n",
      " [-0.35494129]\n",
      " [ 2.38232079]\n",
      " [-0.26858397]\n",
      " [ 2.31002965]\n",
      " [-1.68415022]\n",
      " [-1.06281899]\n",
      " [ 1.32583882]\n",
      " [ 2.05396938]\n",
      " [-1.46462   ]\n",
      " [ 2.16837753]\n",
      " [ 2.52563928]\n",
      " [ 0.67754292]\n",
      " [ 0.24974838]\n",
      " [ 2.22075861]\n",
      " [ 1.67033262]\n",
      " [ 2.03804152]\n",
      " [ 1.53720444]\n",
      " [ 1.55228352]\n",
      " [-1.56214427]\n",
      " [ 1.45484964]\n",
      " [ 0.64360344]\n",
      " [-2.51341605]\n",
      " [-0.41914936]\n",
      " [ 1.72009234]\n",
      " [ 1.58362865]\n",
      " [ 0.66103599]\n",
      " [ 2.13065107]\n",
      " [ 2.54615182]\n",
      " [-1.37239516]\n",
      " [-0.84569031]\n",
      " [ 0.61545773]\n",
      " [-2.77407488]\n",
      " [ 0.43028455]\n",
      " [ 0.64682333]\n",
      " [ 0.52297252]\n",
      " [ 2.97326484]\n",
      " [ 2.0704085 ]\n",
      " [-2.29154998]\n",
      " [ 0.53832581]\n",
      " [ 1.9607596 ]\n",
      " [-1.84236537]\n",
      " [-0.71051404]\n",
      " [ 2.12034115]\n",
      " [ 2.46843   ]\n",
      " [-1.35875326]\n",
      " [-2.66337522]\n",
      " [-1.13931177]\n",
      " [ 1.45480086]\n",
      " [ 0.54084042]\n",
      " [-1.89881453]\n",
      " [-0.42364699]\n",
      " [-0.08118884]\n",
      " [ 1.62913213]\n",
      " [-1.27328531]\n",
      " [-0.05434102]\n",
      " [-1.40042621]\n",
      " [ 0.30581569]\n",
      " [-1.60376274]\n",
      " [ 2.63118763]\n",
      " [ 0.52372241]\n",
      " [ 1.10215393]\n",
      " [-2.24977443]\n",
      " [-2.28558421]\n",
      " [ 2.64877311]\n",
      " [-0.49476506]\n",
      " [ 2.30246268]\n",
      " [ 2.3144823 ]\n",
      " [ 0.37265687]\n",
      " [-0.12200108]\n",
      " [-2.70853444]\n",
      " [ 1.59739968]\n",
      " [-0.03295096]\n",
      " [ 1.97684961]\n",
      " [ 2.15719966]\n",
      " [-0.13070139]\n",
      " [ 2.72175396]\n",
      " [-2.90010838]\n",
      " [ 0.88904071]\n",
      " [ 1.72522192]\n",
      " [-0.35336563]\n",
      " [-1.30731251]\n",
      " [ 2.75503423]\n",
      " [ 1.88667843]\n",
      " [-1.35221974]\n",
      " [-1.51039325]\n",
      " [-0.87857021]\n",
      " [-0.31555796]\n",
      " [-0.34687623]\n",
      " [ 1.85202927]\n",
      " [ 1.04028542]\n",
      " [-2.56456087]\n",
      " [-1.38673126]\n",
      " [-0.14279466]\n",
      " [-2.23950652]]\n"
     ]
    }
   ],
   "source": [
    "print(X_train)"
   ]
  },
  {
   "cell_type": "code",
   "execution_count": 20,
   "id": "49df1d25",
   "metadata": {},
   "outputs": [
    {
     "name": "stdout",
     "output_type": "stream",
     "text": [
      "[[ 1.00000000e+00  2.17212465e+00  4.71812549e+00]\n",
      " [ 1.00000000e+00 -1.17214946e-01  1.37393436e-02]\n",
      " [ 1.00000000e+00  2.15399237e-01  4.63968314e-02]\n",
      " [ 1.00000000e+00 -2.21612567e+00  4.91121300e+00]\n",
      " [ 1.00000000e+00 -7.47887683e-01  5.59335986e-01]\n",
      " [ 1.00000000e+00 -2.75601661e+00  7.59562753e+00]\n",
      " [ 1.00000000e+00 -2.16399162e+00  4.68285972e+00]\n",
      " [ 1.00000000e+00 -6.18239052e-02  3.82219526e-03]\n",
      " [ 1.00000000e+00  6.49433752e-01  4.21764198e-01]\n",
      " [ 1.00000000e+00 -2.39204109e+00  5.72186058e+00]\n",
      " [ 1.00000000e+00  1.52360315e+00  2.32136655e+00]\n",
      " [ 1.00000000e+00 -1.65210413e+00  2.72944805e+00]\n",
      " [ 1.00000000e+00 -7.38997085e-01  5.46116692e-01]\n",
      " [ 1.00000000e+00  7.02039955e-01  4.92860098e-01]\n",
      " [ 1.00000000e+00 -2.50559922e+00  6.27802745e+00]\n",
      " [ 1.00000000e+00  1.01177850e+00  1.02369573e+00]\n",
      " [ 1.00000000e+00 -1.35273875e+00  1.82990212e+00]\n",
      " [ 1.00000000e+00 -1.19719497e+00  1.43327579e+00]\n",
      " [ 1.00000000e+00 -2.40248949e+00  5.77195574e+00]\n",
      " [ 1.00000000e+00  8.62452274e-01  7.43823925e-01]\n",
      " [ 1.00000000e+00 -2.21447361e+00  4.90389335e+00]\n",
      " [ 1.00000000e+00 -1.21497551e+00  1.47616549e+00]\n",
      " [ 1.00000000e+00 -1.11233219e-01  1.23728290e-02]\n",
      " [ 1.00000000e+00  1.79027416e+00  3.20508158e+00]\n",
      " [ 1.00000000e+00  1.48115319e+00  2.19381476e+00]\n",
      " [ 1.00000000e+00  1.45021886e+00  2.10313473e+00]\n",
      " [ 1.00000000e+00  7.75627395e-01  6.01597856e-01]\n",
      " [ 1.00000000e+00 -1.63959160e+00  2.68826060e+00]\n",
      " [ 1.00000000e+00  1.08813255e+00  1.18403245e+00]\n",
      " [ 1.00000000e+00  1.86169849e+00  3.46592128e+00]\n",
      " [ 1.00000000e+00  9.91061651e-01  9.82203197e-01]\n",
      " [ 1.00000000e+00  2.45712643e-01  6.03747028e-02]\n",
      " [ 1.00000000e+00  2.03466953e+00  4.13988011e+00]\n",
      " [ 1.00000000e+00 -2.35864331e-01  5.56319827e-02]\n",
      " [ 1.00000000e+00  1.95892995e+00  3.83740654e+00]\n",
      " [ 1.00000000e+00  1.22374506e+00  1.49755198e+00]\n",
      " [ 1.00000000e+00 -2.55637604e+00  6.53505847e+00]\n",
      " [ 1.00000000e+00 -2.23928614e+00  5.01440240e+00]\n",
      " [ 1.00000000e+00  1.19372640e+00  1.42498272e+00]\n",
      " [ 1.00000000e+00  1.88474762e-01  3.55227361e-02]\n",
      " [ 1.00000000e+00 -2.43748109e+00  5.94131405e+00]\n",
      " [ 1.00000000e+00 -4.31473465e-01  1.86169351e-01]\n",
      " [ 1.00000000e+00  3.25365782e-01  1.05862892e-01]\n",
      " [ 1.00000000e+00 -1.02288141e+00  1.04628639e+00]\n",
      " [ 1.00000000e+00  2.44198055e+00  5.96326899e+00]\n",
      " [ 1.00000000e+00  1.29708992e+00  1.68244226e+00]\n",
      " [ 1.00000000e+00  2.01138927e+00  4.04568679e+00]\n",
      " [ 1.00000000e+00  2.71025749e+00  7.34549568e+00]\n",
      " [ 1.00000000e+00 -8.76919424e-01  7.68987676e-01]\n",
      " [ 1.00000000e+00  2.61577438e+00  6.84227561e+00]\n",
      " [ 1.00000000e+00  2.51753770e+00  6.33799609e+00]\n",
      " [ 1.00000000e+00 -2.78832707e-01  7.77476787e-02]\n",
      " [ 1.00000000e+00  1.90535557e+00  3.63037985e+00]\n",
      " [ 1.00000000e+00  1.88191733e+00  3.54161285e+00]\n",
      " [ 1.00000000e+00 -2.72458585e-01  7.42336806e-02]\n",
      " [ 1.00000000e+00 -2.95771342e+00  8.74806867e+00]\n",
      " [ 1.00000000e+00 -9.84856769e-01  9.69942855e-01]\n",
      " [ 1.00000000e+00  4.48078532e-01  2.00774371e-01]\n",
      " [ 1.00000000e+00 -7.41144013e-01  5.49294448e-01]\n",
      " [ 1.00000000e+00  2.95924850e+00  8.75715168e+00]\n",
      " [ 1.00000000e+00 -1.87480083e+00  3.51487814e+00]\n",
      " [ 1.00000000e+00 -2.55180613e+00  6.51171451e+00]\n",
      " [ 1.00000000e+00  1.91351875e+00  3.66155400e+00]\n",
      " [ 1.00000000e+00  2.76138244e+00  7.62523298e+00]\n",
      " [ 1.00000000e+00  2.87552552e+00  8.26864700e+00]\n",
      " [ 1.00000000e+00 -1.71971768e-01  2.95742888e-02]\n",
      " [ 1.00000000e+00 -3.54941293e-01  1.25983322e-01]\n",
      " [ 1.00000000e+00  2.38232079e+00  5.67545234e+00]\n",
      " [ 1.00000000e+00 -2.68583966e-01  7.21373468e-02]\n",
      " [ 1.00000000e+00  2.31002965e+00  5.33623699e+00]\n",
      " [ 1.00000000e+00 -1.68415022e+00  2.83636196e+00]\n",
      " [ 1.00000000e+00 -1.06281899e+00  1.12958422e+00]\n",
      " [ 1.00000000e+00  1.32583882e+00  1.75784859e+00]\n",
      " [ 1.00000000e+00  2.05396938e+00  4.21879023e+00]\n",
      " [ 1.00000000e+00 -1.46462000e+00  2.14511173e+00]\n",
      " [ 1.00000000e+00  2.16837753e+00  4.70186111e+00]\n",
      " [ 1.00000000e+00  2.52563928e+00  6.37885379e+00]\n",
      " [ 1.00000000e+00  6.77542922e-01  4.59064412e-01]\n",
      " [ 1.00000000e+00  2.49748384e-01  6.23742552e-02]\n",
      " [ 1.00000000e+00  2.22075861e+00  4.93176879e+00]\n",
      " [ 1.00000000e+00  1.67033262e+00  2.79001105e+00]\n",
      " [ 1.00000000e+00  2.03804152e+00  4.15361325e+00]\n",
      " [ 1.00000000e+00  1.53720444e+00  2.36299750e+00]\n",
      " [ 1.00000000e+00  1.55228352e+00  2.40958412e+00]\n",
      " [ 1.00000000e+00 -1.56214427e+00  2.44029472e+00]\n",
      " [ 1.00000000e+00  1.45484964e+00  2.11658748e+00]\n",
      " [ 1.00000000e+00  6.43603441e-01  4.14225390e-01]\n",
      " [ 1.00000000e+00 -2.51341605e+00  6.31726023e+00]\n",
      " [ 1.00000000e+00 -4.19149359e-01  1.75686185e-01]\n",
      " [ 1.00000000e+00  1.72009234e+00  2.95871765e+00]\n",
      " [ 1.00000000e+00  1.58362865e+00  2.50787971e+00]\n",
      " [ 1.00000000e+00  6.61035986e-01  4.36968574e-01]\n",
      " [ 1.00000000e+00  2.13065107e+00  4.53967397e+00]\n",
      " [ 1.00000000e+00  2.54615182e+00  6.48288908e+00]\n",
      " [ 1.00000000e+00 -1.37239516e+00  1.88346846e+00]\n",
      " [ 1.00000000e+00 -8.45690312e-01  7.15192104e-01]\n",
      " [ 1.00000000e+00  6.15457730e-01  3.78788217e-01]\n",
      " [ 1.00000000e+00 -2.77407488e+00  7.69549142e+00]\n",
      " [ 1.00000000e+00  4.30284553e-01  1.85144797e-01]\n",
      " [ 1.00000000e+00  6.46823328e-01  4.18380417e-01]\n",
      " [ 1.00000000e+00  5.22972524e-01  2.73500261e-01]\n",
      " [ 1.00000000e+00  2.97326484e+00  8.84030380e+00]\n",
      " [ 1.00000000e+00  2.07040850e+00  4.28659134e+00]\n",
      " [ 1.00000000e+00 -2.29154998e+00  5.25120132e+00]\n",
      " [ 1.00000000e+00  5.38325809e-01  2.89794676e-01]\n",
      " [ 1.00000000e+00  1.96075960e+00  3.84457822e+00]\n",
      " [ 1.00000000e+00 -1.84236537e+00  3.39431016e+00]\n",
      " [ 1.00000000e+00 -7.10514042e-01  5.04830204e-01]\n",
      " [ 1.00000000e+00  2.12034115e+00  4.49584659e+00]\n",
      " [ 1.00000000e+00  2.46843000e+00  6.09314666e+00]\n",
      " [ 1.00000000e+00 -1.35875326e+00  1.84621043e+00]\n",
      " [ 1.00000000e+00 -2.66337522e+00  7.09356758e+00]\n",
      " [ 1.00000000e+00 -1.13931177e+00  1.29803132e+00]\n",
      " [ 1.00000000e+00  1.45480086e+00  2.11644553e+00]\n",
      " [ 1.00000000e+00  5.40840416e-01  2.92508355e-01]\n",
      " [ 1.00000000e+00 -1.89881453e+00  3.60549663e+00]\n",
      " [ 1.00000000e+00 -4.23646989e-01  1.79476771e-01]\n",
      " [ 1.00000000e+00 -8.11888424e-02  6.59162813e-03]\n",
      " [ 1.00000000e+00  1.62913213e+00  2.65407148e+00]\n",
      " [ 1.00000000e+00 -1.27328531e+00  1.62125547e+00]\n",
      " [ 1.00000000e+00 -5.43410161e-02  2.95294603e-03]\n",
      " [ 1.00000000e+00 -1.40042621e+00  1.96119356e+00]\n",
      " [ 1.00000000e+00  3.05815690e-01  9.35232364e-02]\n",
      " [ 1.00000000e+00 -1.60376274e+00  2.57205494e+00]\n",
      " [ 1.00000000e+00  2.63118763e+00  6.92314837e+00]\n",
      " [ 1.00000000e+00  5.23722410e-01  2.74285163e-01]\n",
      " [ 1.00000000e+00  1.10215393e+00  1.21474328e+00]\n",
      " [ 1.00000000e+00 -2.24977443e+00  5.06148498e+00]\n",
      " [ 1.00000000e+00 -2.28558421e+00  5.22389518e+00]\n",
      " [ 1.00000000e+00  2.64877311e+00  7.01599898e+00]\n",
      " [ 1.00000000e+00 -4.94765063e-01  2.44792467e-01]\n",
      " [ 1.00000000e+00  2.30246268e+00  5.30133439e+00]\n",
      " [ 1.00000000e+00  2.31448230e+00  5.35682833e+00]\n",
      " [ 1.00000000e+00  3.72656865e-01  1.38873139e-01]\n",
      " [ 1.00000000e+00 -1.22001075e-01  1.48842624e-02]\n",
      " [ 1.00000000e+00 -2.70853444e+00  7.33615879e+00]\n",
      " [ 1.00000000e+00  1.59739968e+00  2.55168575e+00]\n",
      " [ 1.00000000e+00 -3.29509647e-02  1.08576607e-03]\n",
      " [ 1.00000000e+00  1.97684961e+00  3.90793437e+00]\n",
      " [ 1.00000000e+00  2.15719966e+00  4.65351035e+00]\n",
      " [ 1.00000000e+00 -1.30701390e-01  1.70828534e-02]\n",
      " [ 1.00000000e+00  2.72175396e+00  7.40794459e+00]\n",
      " [ 1.00000000e+00 -2.90010838e+00  8.41062864e+00]\n",
      " [ 1.00000000e+00  8.89040706e-01  7.90393378e-01]\n",
      " [ 1.00000000e+00  1.72522192e+00  2.97639066e+00]\n",
      " [ 1.00000000e+00 -3.53365633e-01  1.24867270e-01]\n",
      " [ 1.00000000e+00 -1.30731251e+00  1.70906600e+00]\n",
      " [ 1.00000000e+00  2.75503423e+00  7.59021359e+00]\n",
      " [ 1.00000000e+00  1.88667843e+00  3.55955550e+00]\n",
      " [ 1.00000000e+00 -1.35221974e+00  1.82849822e+00]\n",
      " [ 1.00000000e+00 -1.51039325e+00  2.28128777e+00]\n",
      " [ 1.00000000e+00 -8.78570211e-01  7.71885616e-01]\n",
      " [ 1.00000000e+00 -3.15557957e-01  9.95768245e-02]\n",
      " [ 1.00000000e+00 -3.46876226e-01  1.20323116e-01]\n",
      " [ 1.00000000e+00  1.85202927e+00  3.43001243e+00]\n",
      " [ 1.00000000e+00  1.04028542e+00  1.08219376e+00]\n",
      " [ 1.00000000e+00 -2.56456087e+00  6.57697246e+00]\n",
      " [ 1.00000000e+00 -1.38673126e+00  1.92302359e+00]\n",
      " [ 1.00000000e+00 -1.42794658e-01  2.03903143e-02]\n",
      " [ 1.00000000e+00 -2.23950652e+00  5.01538946e+00]]\n"
     ]
    }
   ],
   "source": [
    "print(x_train_trans)"
   ]
  },
  {
   "cell_type": "code",
   "execution_count": 21,
   "id": "759ed8df",
   "metadata": {},
   "outputs": [
    {
     "data": {
      "text/plain": [
       "LinearRegression()"
      ]
     },
     "execution_count": 21,
     "metadata": {},
     "output_type": "execute_result"
    }
   ],
   "source": [
    "# model\n",
    "lr1=LinearRegression()\n",
    "lr1.fit(x_train_trans,y_train)"
   ]
  },
  {
   "cell_type": "code",
   "execution_count": 27,
   "id": "94f20ea6",
   "metadata": {},
   "outputs": [
    {
     "data": {
      "text/plain": [
       "array([6.42820494])"
      ]
     },
     "execution_count": 27,
     "metadata": {},
     "output_type": "execute_result"
    }
   ],
   "source": [
    "y_test[20]"
   ]
  },
  {
   "cell_type": "code",
   "execution_count": 26,
   "id": "318f64bf",
   "metadata": {},
   "outputs": [
    {
     "data": {
      "text/plain": [
       "array([6.41602562])"
      ]
     },
     "execution_count": 26,
     "metadata": {},
     "output_type": "execute_result"
    }
   ],
   "source": [
    "y_pred=lr1.predict(X_test_trans)\n",
    "y_pred[20]"
   ]
  },
  {
   "cell_type": "code",
   "execution_count": 25,
   "id": "b528c0f6",
   "metadata": {},
   "outputs": [
    {
     "data": {
      "text/plain": [
       "0.9893976140534021"
      ]
     },
     "execution_count": 25,
     "metadata": {},
     "output_type": "execute_result"
    }
   ],
   "source": [
    "r2_score(y_test,y_pred)"
   ]
  },
  {
   "cell_type": "code",
   "execution_count": 31,
   "id": "5ead8963",
   "metadata": {},
   "outputs": [
    {
     "data": {
      "image/png": "[encoded data removed]",
      "text/plain": [
       "<Figure size 432x288 with 1 Axes>"
      ]
     },
     "metadata": {
      "needs_background": "light"
     },
     "output_type": "display_data"
    }
   ],
   "source": [
    "plt.plot(x_train_trans,lr1.predict(x_train_trans),'r.')\n",
    "plt.plot(x,y,\"b.\")\n",
    "plt.xlabel(\"X\")\n",
    "plt.ylabel(\"Y\")\n",
    "plt.show()"
   ]
  },
  {
   "cell_type": "code",
   "execution_count": 34,
   "id": "dde09e3e",
   "metadata": {},
   "outputs": [
    {
     "data": {
      "image/png": "[encoded data removed]",
      "text/plain": [
       "<Figure size 432x288 with 1 Axes>"
      ]
     },
     "metadata": {
      "needs_background": "light"
     },
     "output_type": "display_data"
    }
   ],
   "source": [
    "plt.plot(X_train,y_train,'b.',label='Training data')\n",
    "# generating smooth curve\n",
    "x_line=np.linspace(X_train.min(), X_train.max(),100).reshape(-1,1)\n",
    "\n",
    "# Polynomial transformation\n",
    "x_line_poly=poly.transform(x_line)\n",
    "\n",
    "# Prediction on above data\n",
    "y_line=lr1.predict(x_line_poly)\n",
    "\n",
    "# Ploting\n",
    "\n",
    "plt.plot(x_line, y_line, color='r', label='Polynomial Regression')\n",
    "\n",
    "plt.xlabel('X')\n",
    "plt.ylabel('Y')\n",
    "plt.legend()\n",
    "plt.show()"
   ]
  },
  {
   "cell_type": "code",
   "execution_count": null,
   "id": "a429d5a7",
   "metadata": {},
   "outputs": [],
   "source": []
  }
 ],
 "metadata": {
  "kernelspec": {
   "display_name": "Python 3 (ipykernel)",
   "language": "python",
   "name": "python3"
  },
  "language_info": {
   "codemirror_mode": {
    "name": "ipython",
    "version": 3
   },
   "file_extension": ".py",
   "mimetype": "text/x-python",
   "name": "python",
   "nbconvert_exporter": "python",
   "pygments_lexer": "ipython3",
   "version": "3.9.12"
  }
 },
 "nbformat": 4,
 "nbformat_minor": 5
}
